{
  "nbformat": 4,
  "nbformat_minor": 0,
  "metadata": {
    "kernelspec": {
      "name": "python3",
      "display_name": "Python 3"
    },
    "colab": {
      "name": "03_fine_tuning_17flowers.ipynb",
      "provenance": []
    },
    "accelerator": "GPU"
  },
  "cells": [
    {
      "cell_type": "code",
      "metadata": {
        "id": "o4fA3ugiWDrK"
      },
      "source": [
        "import os\n",
        "import urllib.request\n",
        "import tarfile\n",
        "import shutil\n",
        "import glob\n",
        "\n",
        "import numpy as np\n",
        "import tensorflow as tf\n",
        "from tensorflow.keras.preprocessing.image import ImageDataGenerator"
      ],
      "execution_count": 1,
      "outputs": []
    },
    {
      "cell_type": "code",
      "metadata": {
        "id": "4s7tEB45WDrW"
      },
      "source": [
        "# 17flowersデータセットのダウンロード\n",
        "urllib.request.urlretrieve(\n",
        "    'http://www.robots.ox.ac.uk/~vgg/data/flowers/17/17flowers.tgz',\n",
        "    '17flowers.tgz'\n",
        ")"
      ],
      "execution_count": null,
      "outputs": []
    },
    {
      "cell_type": "code",
      "metadata": {
        "id": "FPXu8g7CWDrk"
      },
      "source": [
        "# 17flowersデータセットの解凍\n",
        "with tarfile.open('17flowers.tgz') as tar:\n",
        "    tar.extractall()\n",
        "os.rename('jpg', '17flowers')"
      ],
      "execution_count": 3,
      "outputs": []
    },
    {
      "cell_type": "code",
      "metadata": {
        "id": "iNyrCd-EWDr2"
      },
      "source": [
        "# 17flowersデータセットのラベルを定義\n",
        "labels = ['Tulip', 'Snowdrop', 'LilyValley', 'Bluebell', 'Crocus', \n",
        "          'Iris', 'Tigerlily', 'Daffodil', 'Fritillary', 'Sunflower', \n",
        "          'Daisy', 'ColtsFoot', 'Dandelion', 'Cowslip', 'Buttercup', \n",
        "          'Windflower', 'Pansy']"
      ],
      "execution_count": 4,
      "outputs": []
    },
    {
      "cell_type": "code",
      "metadata": {
        "id": "mWtL0gwAWDsB"
      },
      "source": [
        "# train/validationディレクトリパス準備\n",
        "train_dir = os.path.join(os.getcwd(), '17flowers', 'train')\n",
        "validation_dir = os.path.join(os.getcwd(), '17flowers', 'validation')"
      ],
      "execution_count": 5,
      "outputs": []
    },
    {
      "cell_type": "code",
      "metadata": {
        "id": "tHvu3vsfWDsP"
      },
      "source": [
        "# train/validationに各ラベルのディレクトリを準備\n",
        "os.mkdir(train_dir)\n",
        "os.mkdir(validation_dir)\n",
        "\n",
        "for directory_name in labels:\n",
        "    os.mkdir(os.path.join(os.getcwd(), '17flowers', 'train', directory_name))\n",
        "    os.mkdir(os.path.join(os.getcwd(), '17flowers', 'validation', directory_name))"
      ],
      "execution_count": 6,
      "outputs": []
    },
    {
      "cell_type": "code",
      "metadata": {
        "id": "cNCh2xVYWDsY"
      },
      "source": [
        "# train/validationにデータセットを配置\n",
        "dataset_number = 80\n",
        "train_ratio = 0.9\n",
        "train_number = int(dataset_number * train_ratio)\n",
        "\n",
        "jpg_files = [f for f in sorted(os.listdir('17flowers')) if f.endswith('.jpg')]\n",
        "for index, jpg_file in enumerate(jpg_files):\n",
        "    if (index % dataset_number) < train_number:\n",
        "        destination_directory = 'train'\n",
        "    else:\n",
        "        destination_directory = 'validation'\n",
        "        \n",
        "    src = os.path.join(os.getcwd(), '17flowers', jpg_file)\n",
        "    dst = os.path.join(os.getcwd(), '17flowers', destination_directory, labels[index // dataset_number])\n",
        "    shutil.move(src, dst)"
      ],
      "execution_count": 7,
      "outputs": []
    },
    {
      "cell_type": "code",
      "metadata": {
        "id": "fTUJrvG-WDsf"
      },
      "source": [
        "# train/validation配下のjpgファイル一覧を取得\n",
        "train_files = glob.glob(os.path.join(train_dir, '*', '*.jpg'))\n",
        "validation_files = glob.glob(os.path.join(validation_dir, '*', '*.jpg'))"
      ],
      "execution_count": 8,
      "outputs": []
    },
    {
      "cell_type": "code",
      "metadata": {
        "id": "Yjy7gSvdWDsl"
      },
      "source": [
        "# Xceptionモデルをロード(include_top=False:ネットワークの出力層側にある全結合層を含まない)\n",
        "xception_base_model = tf.keras.applications.xception.Xception(include_top=False, weights='imagenet', input_shape=(299, 299, 3))"
      ],
      "execution_count": null,
      "outputs": []
    },
    {
      "cell_type": "code",
      "metadata": {
        "id": "5FtcrZ2EWDsr"
      },
      "source": [
        "# モデル可視化\n",
        "xception_base_model.summary()"
      ],
      "execution_count": null,
      "outputs": []
    },
    {
      "cell_type": "code",
      "metadata": {
        "id": "UEFretnEWDsx"
      },
      "source": [
        "# 一部の層を固定し再学習しないよう設定\n",
        "layer_names = [l.name for l in xception_base_model.layers]\n",
        "layer_index = layer_names.index('block3_sepconv1')\n",
        "\n",
        "for layer in xception_base_model.layers[:layer_index]:\n",
        "    layer.trainable = False\n",
        "for layer in xception_base_model.layers:\n",
        "    print(layer, layer.trainable)"
      ],
      "execution_count": null,
      "outputs": []
    },
    {
      "cell_type": "code",
      "metadata": {
        "id": "xTPVhoWAWDs4"
      },
      "source": [
        "# 出力用の全結合層を再定義しモデルを構築\n",
        "x = tf.keras.layers.Flatten()(xception_base_model.output)\n",
        "x = tf.keras.layers.Dense(512, activation='relu')(x)\n",
        "output = tf.keras.layers.Dense(17, activation='softmax', name='last_output')(x)\n",
        "xception_model = tf.keras.Model(inputs=xception_base_model.inputs, outputs=output, name='model')"
      ],
      "execution_count": 12,
      "outputs": []
    },
    {
      "cell_type": "code",
      "metadata": {
        "id": "A1kCrMA2WDs9"
      },
      "source": [
        "# モデルコンパイル(転移学習、ファインチューニングの場合はAdamよりSGDが良いケースが多い)\n",
        "xception_model.compile(\n",
        "    optimizer='sgd',\n",
        "    loss='categorical_crossentropy',\n",
        "    metrics=['accuracy']\n",
        ")"
      ],
      "execution_count": 13,
      "outputs": []
    },
    {
      "cell_type": "code",
      "metadata": {
        "id": "ek_302NOWDtD"
      },
      "source": [
        "# モデル可視化\n",
        "xception_model.summary()"
      ],
      "execution_count": null,
      "outputs": []
    },
    {
      "cell_type": "code",
      "metadata": {
        "id": "p9HXO3nBWDtM"
      },
      "source": [
        "# train/validation用のImageDataGeneratorを定義(データ拡張をする場合はコメントアウトを解除する)\n",
        "train_image_generator = ImageDataGenerator(\n",
        "                            width_shift_range=2,\n",
        "                            height_shift_range=2,\n",
        "                            brightness_range=(0.8, 1.2),\n",
        "                            channel_shift_range=0.2,\n",
        "                            zoom_range=0.02,\n",
        "                            rotation_range=2,\n",
        "                        )\n",
        "validation_image_generator = ImageDataGenerator()"
      ],
      "execution_count": 35,
      "outputs": []
    },
    {
      "cell_type": "code",
      "metadata": {
        "id": "PalF2BlMWDtQ"
      },
      "source": [
        "# ImageDataGeneratorを用いてディレクトリからデータを読み込む準備\n",
        "batch_size = 32\n",
        "epochs = 10\n",
        "IMG_HEIGHT =299\n",
        "IMG_WIDTH = 299\n",
        "\n",
        "train_data_gen = train_image_generator.flow_from_directory(batch_size=batch_size,\n",
        "                                                           directory=train_dir,\n",
        "                                                           shuffle=True,\n",
        "                                                           target_size=(IMG_HEIGHT, IMG_WIDTH),\n",
        "                                                           classes=labels,\n",
        "                                                           class_mode='categorical')\n",
        "validation_data_gen = validation_image_generator.flow_from_directory(batch_size=batch_size,\n",
        "                                                              directory=validation_dir,\n",
        "                                                              target_size=(IMG_HEIGHT, IMG_WIDTH),\n",
        "                                                              classes=labels,\n",
        "                                                              class_mode='categorical')"
      ],
      "execution_count": null,
      "outputs": []
    },
    {
      "cell_type": "code",
      "metadata": {
        "id": "9izFkpwBWDtZ"
      },
      "source": [
        "# モデルチェックポイントのコールバック(1エポック毎)\n",
        "checkpoint_path = os.path.join(os.getcwd(), 'checkpoints', 'weights.{epoch:03d}-{val_loss:.3f}-{val_accuracy:.3f}.hdf5')\n",
        "cp_callback = tf.keras.callbacks.ModelCheckpoint(checkpoint_path, \n",
        "                                                 verbose=1, \n",
        "                                                 save_best_only=True,\n",
        "                                                 mode='auto',\n",
        "                                                 save_weights_only=False, \n",
        "                                                 save_freq='epoch')\n",
        "\n",
        "# 評価値の改善が見られない場合に学習率を減らすコールバックを定義\n",
        "lr_callback = tf.keras.callbacks.ReduceLROnPlateau(monitor='val_loss', factor=0.1, patience=5,\n",
        "                                          verbose=1, mode='auto', min_delta=0.0001,\n",
        "                                          cooldown=3, min_lr=0)"
      ],
      "execution_count": 17,
      "outputs": []
    },
    {
      "cell_type": "code",
      "metadata": {
        "id": "3wh5iVaLX1ue"
      },
      "source": [
        "!mkdir checkpoints"
      ],
      "execution_count": 18,
      "outputs": []
    },
    {
      "cell_type": "code",
      "metadata": {
        "id": "OrBkYwO5WDth"
      },
      "source": [
        "# 訓練\n",
        "history = xception_model.fit(\n",
        "    train_data_gen,\n",
        "    steps_per_epoch=len(train_files) // batch_size,\n",
        "    epochs=epochs,\n",
        "    validation_data=validation_data_gen,\n",
        "    validation_steps=len(validation_files) // batch_size,\n",
        "    callbacks=[cp_callback, lr_callback]\n",
        ")"
      ],
      "execution_count": null,
      "outputs": []
    },
    {
      "cell_type": "code",
      "metadata": {
        "id": "vGNVukC2ca-6"
      },
      "source": [
        "!ls checkpoints"
      ],
      "execution_count": null,
      "outputs": []
    },
    {
      "cell_type": "code",
      "metadata": {
        "id": "Sl5p2NPCWDtq"
      },
      "source": [
        "# 保存したモデルのロード\n",
        "# load_model = tf.keras.models.load_model(\"checkpoints/weights.***-****-****.hdf5\") # 出来上がったcheckpointファイルを指定する\n",
        "load_model = tf.keras.models.load_model(\"checkpoints/weights.007-0.619-0.836.hdf5\") # 出来上がったcheckpointファイルを指定する"
      ],
      "execution_count": 23,
      "outputs": []
    },
    {
      "cell_type": "code",
      "metadata": {
        "id": "PpaKwzNKWDtu"
      },
      "source": [
        "# テスト画像を1枚ロード\n",
        "from IPython.display import Image, display_png\n",
        "from tensorflow.keras.preprocessing.image import img_to_array, load_img\n",
        "\n",
        "img = tf.keras.preprocessing.image.load_img('17flowers/validation/Sunflower/image_0793.jpg', False, target_size=(299, 299))\n",
        "display_png(img)"
      ],
      "execution_count": null,
      "outputs": []
    },
    {
      "cell_type": "code",
      "metadata": {
        "id": "B8ltC8NZWDtz"
      },
      "source": [
        "# 入力画像成形、および正規化\n",
        "x = img_to_array(img)\n",
        "x = x.reshape(-1, 299, 299, 3)\n",
        "x = x.astype('float32')"
      ],
      "execution_count": 32,
      "outputs": []
    },
    {
      "cell_type": "code",
      "metadata": {
        "id": "I6HKBVWTWDt5"
      },
      "source": [
        "# 推論実行\n",
        "with tf.device(\"CPU:0\"): # CUDA、cuDNNが正しくインストールされている場合はwith句を外す\n",
        "    predict_result = load_model.predict(x)"
      ],
      "execution_count": 33,
      "outputs": []
    },
    {
      "cell_type": "code",
      "metadata": {
        "id": "KCrMwvHQWDt8"
      },
      "source": [
        "# 推論結果表示\n",
        "print(predict_result)\n",
        "print(np.squeeze(predict_result))\n",
        "print(np.argmax(np.squeeze(predict_result)))\n",
        "print(labels[np.argmax(np.squeeze(predict_result))])"
      ],
      "execution_count": null,
      "outputs": []
    }
  ]
}